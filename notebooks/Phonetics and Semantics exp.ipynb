{
 "cells": [
  {
   "cell_type": "code",
   "execution_count": 55,
   "metadata": {},
   "outputs": [],
   "source": [
    "import requests\n",
    "import pandas as pd\n",
    "from bs4 import BeautifulSoup\n",
    "import string\n",
    "import re\n",
    "import nltk\n",
    "import json\n",
    "import matplotlib.pyplot as plt\n",
    "import numpy as np\n",
    "from nltk.corpus import wordnet as wn\n",
    "import spacy\n",
    "from collections import Counter\n",
    "\n",
    "nlp=spacy.load(\"en_core_web_sm\")"
   ]
  },
  {
   "cell_type": "code",
   "execution_count": 4,
   "metadata": {},
   "outputs": [],
   "source": [
    "data=pd.read_json(\"../data/all_series_lines.json\")"
   ]
  },
  {
   "cell_type": "markdown",
   "metadata": {},
   "source": [
    "### Get all the Captains' lines\n",
    "\n",
    "Get the captains' lines and tag using spacy's english language model."
   ]
  },
  {
   "cell_type": "code",
   "execution_count": 64,
   "metadata": {},
   "outputs": [],
   "source": [
    "kirk_lines=[]\n",
    "picard_lines=[]\n",
    "sisko_lines=[]\n",
    "janeway_lines=[]\n",
    "archer_lines=[]\n",
    "\n",
    "for ep in episodes:\n",
    "    if data['TOS'][ep] is not np.NaN:\n",
    "        if 'KIRK' in data['TOS'][ep].keys():\n",
    "            kirk_lines.append(data['TOS'][ep]['KIRK'])\n",
    "\n",
    "kirk_lines=[item for sublist in kirk_lines for item in sublist]\n",
    "kirk_lines=' '.join(kirk_lines)\n",
    "\n",
    "for ep in episodes:\n",
    "    if data['TNG'][ep] is not np.NaN:\n",
    "        picard_lines.append(data['TNG'][ep]['PICARD'])\n",
    "\n",
    "picard_lines=[item for sublist in picard_lines for item in sublist]\n",
    "picard_lines=' '.join(picard_lines)\n",
    "\n",
    "for ep in episodes:\n",
    "    if data['DS9'][ep] is not np.NaN:\n",
    "        sisko_lines.append(data['DS9'][ep]['SISKO'])\n",
    "    \n",
    "sisko_lines=[item for sublist in sisko_lines for item in sublist]\n",
    "sisko_lines=' '.join(sisko_lines)\n",
    "\n",
    "for ep in episodes:\n",
    "    if data['VOY'][ep] is not np.NaN:\n",
    "        janeway_lines.append(data['VOY'][ep]['JANEWAY'])\n",
    "\n",
    "janeway_lines=[item for sublist in janeway_lines for item in sublist]\n",
    "janeway_lines=' '.join(janeway_lines)\n",
    "\n",
    "for ep in episodes:\n",
    "    if data['ENT'][ep] is not np.NaN:\n",
    "        archer_lines.append(data['ENT'][ep]['ARCHER'])\n",
    "\n",
    "archer_lines=[item for sublist in archer_lines for item in sublist]\n",
    "archer_lines=' '.join(archer_lines)"
   ]
  },
  {
   "cell_type": "code",
   "execution_count": 67,
   "metadata": {},
   "outputs": [
    {
     "name": "stdout",
     "output_type": "stream",
     "text": [
      "kirk done...\n",
      "picard done...\n",
      "sisko done...\n",
      "janeway done...\n",
      "archer done...\n"
     ]
    }
   ],
   "source": [
    "kirk_lines=nlp(kirk_lines)\n",
    "print('kirk done...')\n",
    "picard_lines=nlp(picard_lines)\n",
    "print('picard done...')\n",
    "sisko_lines=nlp(sisko_lines)\n",
    "print('sisko done...')\n",
    "janeway_lines=nlp(janeway_lines)\n",
    "print('janeway done...')\n",
    "archer_lines=nlp(archer_lines)\n",
    "print('archer done...')"
   ]
  },
  {
   "cell_type": "markdown",
   "metadata": {},
   "source": [
    "### Total Vocabulary size\n",
    "\n",
    "Greater vocabulary implies greater intelligence."
   ]
  },
  {
   "cell_type": "code",
   "execution_count": 68,
   "metadata": {},
   "outputs": [
    {
     "name": "stdout",
     "output_type": "stream",
     "text": [
      "133342\n",
      "179559\n",
      "121776\n",
      "165089\n",
      "107435\n"
     ]
    }
   ],
   "source": [
    "print(len(kirk_lines))\n",
    "print(len(picard_lines))\n",
    "print(len(sisko_lines))\n",
    "print(len(janeway_lines))\n",
    "print(len(archer_lines))"
   ]
  },
  {
   "cell_type": "code",
   "execution_count": 71,
   "metadata": {},
   "outputs": [
    {
     "data": {
      "image/png": "[encoded data removed]",
      "text/plain": [
       "<matplotlib.figure.Figure at 0x18ea002b940>"
      ]
     },
     "metadata": {},
     "output_type": "display_data"
    }
   ],
   "source": [
    "y = [len(kirk_lines),len(picard_lines),len(sisko_lines),len(janeway_lines),len(archer_lines)]\n",
    "x = ['Kirk', 'Picard','Sisko','Janeway','Archer']\n",
    "width = 1/1.5\n",
    "plt.bar(x, y, width, color=\"blue\")\n",
    "plt.show()"
   ]
  },
  {
   "cell_type": "markdown",
   "metadata": {},
   "source": [
    "### Complex words\n",
    "\n",
    "Lower number of contexts implies more complex vocabulary. Calculate number of complex words using nltk wordnet."
   ]
  },
  {
   "cell_type": "code",
   "execution_count": 72,
   "metadata": {},
   "outputs": [],
   "source": [
    "#for word in sisko_lines[0]:\n",
    "#    word=word.replace('.','').lower()\n",
    "#    print(str(word)+\" \"+str(wn.synsets(word)))"
   ]
  },
  {
   "cell_type": "code",
   "execution_count": null,
   "metadata": {
    "collapsed": true
   },
   "outputs": [],
   "source": []
  }
 ],
 "metadata": {
  "kernelspec": {
   "display_name": "Python 3",
   "language": "python",
   "name": "python3"
  },
  "language_info": {
   "codemirror_mode": {
    "name": "ipython",
    "version": 3
   },
   "file_extension": ".py",
   "mimetype": "text/x-python",
   "name": "python",
   "nbconvert_exporter": "python",
   "pygments_lexer": "ipython3",
   "version": "3.6.3"
  }
 },
 "nbformat": 4,
 "nbformat_minor": 2
}
